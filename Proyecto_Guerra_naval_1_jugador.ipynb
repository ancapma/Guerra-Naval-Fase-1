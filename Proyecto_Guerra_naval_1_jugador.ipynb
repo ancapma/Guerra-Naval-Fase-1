{
 "cells": [
  {
   "cell_type": "code",
   "execution_count": 8,
   "id": "70cf202e-629a-49f8-8031-0e22e7154541",
   "metadata": {},
   "outputs": [
    {
     "name": "stdout",
     "output_type": "stream",
     "text": [
      "Bote agregado en COM\n",
      "La matriz queda: \n",
      "[[0. 0. 0. 0. 0. 0.]\n",
      " [0. 0. 0. 0. 0. 0.]\n",
      " [0. 0. 0. 0. 0. 0.]\n",
      " [0. 0. 0. 0. 0. 0.]\n",
      " [1. 1. 1. 0. 0. 0.]\n",
      " [0. 0. 0. 0. 0. 0.]]\n",
      "Bote agregado en COM\n",
      "La matriz queda: \n",
      "[[0. 0. 0. 0. 0. 0.]\n",
      " [0. 0. 0. 0. 0. 0.]\n",
      " [0. 0. 0. 0. 0. 0.]\n",
      " [0. 0. 0. 0. 0. 0.]\n",
      " [1. 1. 1. 0. 0. 0.]\n",
      " [0. 0. 1. 1. 0. 0.]]\n",
      "Bote agregado en COM\n",
      "La matriz queda: \n",
      "[[0. 0. 0. 0. 0. 0.]\n",
      " [0. 1. 0. 0. 0. 0.]\n",
      " [0. 1. 0. 0. 0. 0.]\n",
      " [0. 1. 0. 0. 0. 0.]\n",
      " [1. 1. 1. 0. 0. 0.]\n",
      " [0. 0. 1. 1. 0. 0.]]\n",
      "Bote agregado en COM\n",
      "La matriz queda: \n",
      "[[0. 0. 0. 0. 0. 0.]\n",
      " [0. 1. 0. 0. 0. 0.]\n",
      " [0. 1. 1. 0. 0. 0.]\n",
      " [0. 1. 1. 0. 0. 0.]\n",
      " [1. 1. 1. 0. 0. 0.]\n",
      " [0. 0. 1. 1. 0. 0.]]\n",
      "GUERRA NAVAL\n",
      "Tu oponente ya tiene sus barcos en posicion, ahora ubica los tuyos\n",
      "Recuerda que no podras poner ubicaciones mayores a 5\n",
      "Este es un barco horizontal\n"
     ]
    },
    {
     "name": "stdin",
     "output_type": "stream",
     "text": [
      "Ingrese fila para un barco tamaño 3:  2\n",
      "Ingrese columna (Entre 0 a 3) para un barco tamaño 3:  0\n"
     ]
    },
    {
     "name": "stdout",
     "output_type": "stream",
     "text": [
      "Bote agregado en Jugador\n",
      "La matriz queda: \n",
      "[[0. 0. 0. 0. 0. 0.]\n",
      " [0. 0. 0. 0. 0. 0.]\n",
      " [1. 1. 1. 0. 0. 0.]\n",
      " [0. 0. 0. 0. 0. 0.]\n",
      " [0. 0. 0. 0. 0. 0.]\n",
      " [0. 0. 0. 0. 0. 0.]]\n",
      "Este es un barco horizontal\n"
     ]
    },
    {
     "name": "stdin",
     "output_type": "stream",
     "text": [
      "Ingrese fila para un barco tamaño 2:  5\n",
      "Ingrese columna (Entre 0 a 4) para un barco tamaño 2:  0\n"
     ]
    },
    {
     "name": "stdout",
     "output_type": "stream",
     "text": [
      "Bote agregado en Jugador\n",
      "La matriz queda: \n",
      "[[0. 0. 0. 0. 0. 0.]\n",
      " [0. 0. 0. 0. 0. 0.]\n",
      " [1. 1. 1. 0. 0. 0.]\n",
      " [0. 0. 0. 0. 0. 0.]\n",
      " [0. 0. 0. 0. 0. 0.]\n",
      " [1. 1. 0. 0. 0. 0.]]\n",
      "Este es un barco vertical\n"
     ]
    },
    {
     "name": "stdin",
     "output_type": "stream",
     "text": [
      "Ingrese fila (Entre 0 a 3) para un barco tamaño 3:  0\n",
      "Ingrese columna para un barco tamaño 3:  0\n"
     ]
    },
    {
     "name": "stdout",
     "output_type": "stream",
     "text": [
      "Bote agregado en Jugador\n",
      "La matriz queda: \n",
      "[[1. 0. 0. 0. 0. 0.]\n",
      " [1. 0. 0. 0. 0. 0.]\n",
      " [1. 1. 1. 0. 0. 0.]\n",
      " [0. 0. 0. 0. 0. 0.]\n",
      " [0. 0. 0. 0. 0. 0.]\n",
      " [1. 1. 0. 0. 0. 0.]]\n",
      "Este es un barco vertical\n"
     ]
    },
    {
     "name": "stdin",
     "output_type": "stream",
     "text": [
      "Ingrese fila (Entre 0 a 2) para un barco tamaño 4:  0\n",
      "Ingrese columna para un barco tamaño 4:  2\n"
     ]
    },
    {
     "name": "stdout",
     "output_type": "stream",
     "text": [
      "Bote agregado en Jugador\n",
      "La matriz queda: \n",
      "[[1. 0. 1. 0. 0. 0.]\n",
      " [1. 0. 1. 0. 0. 0.]\n",
      " [1. 1. 1. 0. 0. 0.]\n",
      " [0. 0. 1. 0. 0. 0.]\n",
      " [0. 0. 0. 0. 0. 0.]\n",
      " [1. 1. 0. 0. 0. 0.]]\n",
      "Inicia el juego\n",
      "Recuerda que no podras poner filas o columnas mayores a 5\n"
     ]
    },
    {
     "name": "stdin",
     "output_type": "stream",
     "text": [
      "Ingresa fila (entre 0 a 5) para tu disparo a tu oponente:  1\n",
      "Ingresa columna (entre 0 a 5) para tu disparo a tu oponente:  1\n"
     ]
    },
    {
     "name": "stdout",
     "output_type": "stream",
     "text": [
      "Impacto\n",
      "La matriz queda: \n",
      "[[0. 0. 0. 0. 0. 0.]\n",
      " [0. 0. 0. 0. 0. 0.]\n",
      " [0. 1. 1. 0. 0. 0.]\n",
      " [0. 1. 1. 0. 0. 0.]\n",
      " [1. 1. 1. 0. 0. 0.]\n",
      " [0. 0. 1. 1. 0. 0.]]\n",
      "Impacto\n",
      "La matriz queda: \n",
      "[[1. 0. 1. 0. 0. 0.]\n",
      " [1. 0. 1. 0. 0. 0.]\n",
      " [1. 1. 1. 0. 0. 0.]\n",
      " [0. 0. 0. 0. 0. 0.]\n",
      " [0. 0. 0. 0. 0. 0.]\n",
      " [1. 1. 0. 0. 0. 0.]]\n",
      "Recuerda que no podras poner filas o columnas mayores a 5\n"
     ]
    },
    {
     "name": "stdin",
     "output_type": "stream",
     "text": [
      "Ingresa fila (entre 0 a 5) para tu disparo a tu oponente:  2\n",
      "Ingresa columna (entre 0 a 5) para tu disparo a tu oponente:  1\n"
     ]
    },
    {
     "name": "stdout",
     "output_type": "stream",
     "text": [
      "Impacto\n",
      "La matriz queda: \n",
      "[[0. 0. 0. 0. 0. 0.]\n",
      " [0. 0. 0. 0. 0. 0.]\n",
      " [0. 0. 1. 0. 0. 0.]\n",
      " [0. 1. 1. 0. 0. 0.]\n",
      " [1. 1. 1. 0. 0. 0.]\n",
      " [0. 0. 1. 1. 0. 0.]]\n",
      "Impacto\n",
      "La matriz queda: \n",
      "[[1. 0. 1. 0. 0. 0.]\n",
      " [1. 0. 1. 0. 0. 0.]\n",
      " [1. 1. 0. 0. 0. 0.]\n",
      " [0. 0. 0. 0. 0. 0.]\n",
      " [0. 0. 0. 0. 0. 0.]\n",
      " [1. 1. 0. 0. 0. 0.]]\n",
      "Recuerda que no podras poner filas o columnas mayores a 5\n"
     ]
    },
    {
     "name": "stdin",
     "output_type": "stream",
     "text": [
      "Ingresa fila (entre 0 a 5) para tu disparo a tu oponente:  3\n",
      "Ingresa columna (entre 0 a 5) para tu disparo a tu oponente:  1\n"
     ]
    },
    {
     "name": "stdout",
     "output_type": "stream",
     "text": [
      "Impacto\n",
      "La matriz queda: \n",
      "[[0. 0. 0. 0. 0. 0.]\n",
      " [0. 0. 0. 0. 0. 0.]\n",
      " [0. 0. 1. 0. 0. 0.]\n",
      " [0. 0. 1. 0. 0. 0.]\n",
      " [1. 1. 1. 0. 0. 0.]\n",
      " [0. 0. 1. 1. 0. 0.]]\n",
      "Agua\n",
      "Recuerda que no podras poner filas o columnas mayores a 5\n"
     ]
    },
    {
     "name": "stdin",
     "output_type": "stream",
     "text": [
      "Ingresa fila (entre 0 a 5) para tu disparo a tu oponente:  4\n",
      "Ingresa columna (entre 0 a 5) para tu disparo a tu oponente:  1\n"
     ]
    },
    {
     "name": "stdout",
     "output_type": "stream",
     "text": [
      "Impacto\n",
      "La matriz queda: \n",
      "[[0. 0. 0. 0. 0. 0.]\n",
      " [0. 0. 0. 0. 0. 0.]\n",
      " [0. 0. 1. 0. 0. 0.]\n",
      " [0. 0. 1. 0. 0. 0.]\n",
      " [1. 0. 1. 0. 0. 0.]\n",
      " [0. 0. 1. 1. 0. 0.]]\n",
      "Agua\n",
      "Recuerda que no podras poner filas o columnas mayores a 5\n"
     ]
    },
    {
     "name": "stdin",
     "output_type": "stream",
     "text": [
      "Ingresa fila (entre 0 a 5) para tu disparo a tu oponente:  4\n",
      "Ingresa columna (entre 0 a 5) para tu disparo a tu oponente:  0\n"
     ]
    },
    {
     "name": "stdout",
     "output_type": "stream",
     "text": [
      "Impacto\n",
      "La matriz queda: \n",
      "[[0. 0. 0. 0. 0. 0.]\n",
      " [0. 0. 0. 0. 0. 0.]\n",
      " [0. 0. 1. 0. 0. 0.]\n",
      " [0. 0. 1. 0. 0. 0.]\n",
      " [0. 0. 1. 0. 0. 0.]\n",
      " [0. 0. 1. 1. 0. 0.]]\n",
      "Agua\n",
      "Recuerda que no podras poner filas o columnas mayores a 5\n"
     ]
    },
    {
     "name": "stdin",
     "output_type": "stream",
     "text": [
      "Ingresa fila (entre 0 a 5) para tu disparo a tu oponente:  2\n",
      "Ingresa columna (entre 0 a 5) para tu disparo a tu oponente:  2\n"
     ]
    },
    {
     "name": "stdout",
     "output_type": "stream",
     "text": [
      "Impacto\n",
      "La matriz queda: \n",
      "[[0. 0. 0. 0. 0. 0.]\n",
      " [0. 0. 0. 0. 0. 0.]\n",
      " [0. 0. 0. 0. 0. 0.]\n",
      " [0. 0. 1. 0. 0. 0.]\n",
      " [0. 0. 1. 0. 0. 0.]\n",
      " [0. 0. 1. 1. 0. 0.]]\n",
      "Impacto\n",
      "La matriz queda: \n",
      "[[1. 0. 1. 0. 0. 0.]\n",
      " [1. 0. 1. 0. 0. 0.]\n",
      " [1. 1. 0. 0. 0. 0.]\n",
      " [0. 0. 0. 0. 0. 0.]\n",
      " [0. 0. 0. 0. 0. 0.]\n",
      " [0. 1. 0. 0. 0. 0.]]\n",
      "Recuerda que no podras poner filas o columnas mayores a 5\n"
     ]
    },
    {
     "name": "stdin",
     "output_type": "stream",
     "text": [
      "Ingresa fila (entre 0 a 5) para tu disparo a tu oponente:  3\n",
      "Ingresa columna (entre 0 a 5) para tu disparo a tu oponente:  2\n"
     ]
    },
    {
     "name": "stdout",
     "output_type": "stream",
     "text": [
      "Impacto\n",
      "La matriz queda: \n",
      "[[0. 0. 0. 0. 0. 0.]\n",
      " [0. 0. 0. 0. 0. 0.]\n",
      " [0. 0. 0. 0. 0. 0.]\n",
      " [0. 0. 0. 0. 0. 0.]\n",
      " [0. 0. 1. 0. 0. 0.]\n",
      " [0. 0. 1. 1. 0. 0.]]\n",
      "Impacto\n",
      "La matriz queda: \n",
      "[[0. 0. 1. 0. 0. 0.]\n",
      " [1. 0. 1. 0. 0. 0.]\n",
      " [1. 1. 0. 0. 0. 0.]\n",
      " [0. 0. 0. 0. 0. 0.]\n",
      " [0. 0. 0. 0. 0. 0.]\n",
      " [0. 1. 0. 0. 0. 0.]]\n",
      "Recuerda que no podras poner filas o columnas mayores a 5\n"
     ]
    },
    {
     "name": "stdin",
     "output_type": "stream",
     "text": [
      "Ingresa fila (entre 0 a 5) para tu disparo a tu oponente:  4\n",
      "Ingresa columna (entre 0 a 5) para tu disparo a tu oponente:  2\n"
     ]
    },
    {
     "name": "stdout",
     "output_type": "stream",
     "text": [
      "Impacto\n",
      "La matriz queda: \n",
      "[[0. 0. 0. 0. 0. 0.]\n",
      " [0. 0. 0. 0. 0. 0.]\n",
      " [0. 0. 0. 0. 0. 0.]\n",
      " [0. 0. 0. 0. 0. 0.]\n",
      " [0. 0. 0. 0. 0. 0.]\n",
      " [0. 0. 1. 1. 0. 0.]]\n",
      "Agua\n",
      "Recuerda que no podras poner filas o columnas mayores a 5\n"
     ]
    },
    {
     "name": "stdin",
     "output_type": "stream",
     "text": [
      "Ingresa fila (entre 0 a 5) para tu disparo a tu oponente:  5\n",
      "Ingresa columna (entre 0 a 5) para tu disparo a tu oponente:  2\n"
     ]
    },
    {
     "name": "stdout",
     "output_type": "stream",
     "text": [
      "Impacto\n",
      "La matriz queda: \n",
      "[[0. 0. 0. 0. 0. 0.]\n",
      " [0. 0. 0. 0. 0. 0.]\n",
      " [0. 0. 0. 0. 0. 0.]\n",
      " [0. 0. 0. 0. 0. 0.]\n",
      " [0. 0. 0. 0. 0. 0.]\n",
      " [0. 0. 0. 1. 0. 0.]]\n",
      "Agua\n",
      "Recuerda que no podras poner filas o columnas mayores a 5\n"
     ]
    },
    {
     "name": "stdin",
     "output_type": "stream",
     "text": [
      "Ingresa fila (entre 0 a 5) para tu disparo a tu oponente:  5\n",
      "Ingresa columna (entre 0 a 5) para tu disparo a tu oponente:  3\n"
     ]
    },
    {
     "name": "stdout",
     "output_type": "stream",
     "text": [
      "Impacto\n",
      "La matriz queda: \n",
      "[[0. 0. 0. 0. 0. 0.]\n",
      " [0. 0. 0. 0. 0. 0.]\n",
      " [0. 0. 0. 0. 0. 0.]\n",
      " [0. 0. 0. 0. 0. 0.]\n",
      " [0. 0. 0. 0. 0. 0.]\n",
      " [0. 0. 0. 0. 0. 0.]]\n",
      "Agua\n",
      "Ganó jugador\n",
      "Fin del juego\n"
     ]
    }
   ],
   "source": [
    "import random as rd\n",
    "import numpy as np\n",
    "\n",
    "x1 = y1 = x2 = y2 = x3 = y3 = x4 = y4 = sh1 = sh2 = 6\n",
    "\n",
    "class player:\n",
    "    def __init__(self, posicion, tamaño, orientacion, shot=[0,0]):\n",
    "        self.posicion = posicion\n",
    "        self.tamaño = tamaño\n",
    "        self.orientacion = orientacion\n",
    "        self.shot = shot\n",
    "\n",
    "class jugador(player):\n",
    "    def __init__(self, posicion, tamaño, orientacion, shot=[0,0]):\n",
    "        super().__init__(posicion, tamaño, orientacion, shot=[0,0])\n",
    "    def shoter(self, Mshot):\n",
    "        self.shot = Mshot\n",
    "\n",
    "class COM(player):\n",
    "    def __init__(self, posicion, tamaño, orientacion, shot=[0,0]):\n",
    "        super().__init__(posicion, tamaño, orientacion, shot=[0,0])\n",
    "    def shoter(self, Mshot):\n",
    "        self.shot = Mshot\n",
    "\n",
    "class Tablero_de_juego:\n",
    "    def __init__(self):\n",
    "        self.tablero_jugador = np.zeros((6,6))\n",
    "        self.tablero_COM = np.zeros((6,6))\n",
    "        self.available = True\n",
    "    def add_boat_jugador(self, jugador):\n",
    "        if jugador.orientacion == \"H\":\n",
    "            for i in range(jugador.tamaño):\n",
    "                self.tablero_jugador[jugador.posicion[0]][jugador.posicion[1]+i] = 1\n",
    "        else:\n",
    "            for i in range(jugador.tamaño):\n",
    "                self.tablero_jugador[jugador.posicion[0]+i][jugador.posicion[1]] = 1\n",
    "        print(\"Bote agregado en Jugador\")\n",
    "        print(\"La matriz queda: \")\n",
    "        print(self.tablero_jugador)\n",
    "    def add_boat_com(self, COM):\n",
    "        if COM.orientacion == \"H\":\n",
    "            for i in range(COM.tamaño):\n",
    "                self.tablero_COM[COM.posicion[0]][COM.posicion[1]+i] = 1\n",
    "        else:\n",
    "            for i in range(COM.tamaño):\n",
    "                self.tablero_COM[COM.posicion[0]+i][COM.posicion[1]] = 1\n",
    "        print(\"Bote agregado en COM\")\n",
    "        print(\"La matriz queda: \")\n",
    "        print(self.tablero_COM)\n",
    "    def check_crash_jugador(self, jugador):\n",
    "        if self.tablero_COM[jugador.shot[0]][jugador.shot[1]] == 1:\n",
    "            self.tablero_COM[jugador.shot[0]][jugador.shot[1]] = 0\n",
    "            print(\"Impacto\")\n",
    "            print(\"La matriz queda: \")\n",
    "            print(self.tablero_COM)\n",
    "        else:\n",
    "            print(\"Agua\")\n",
    "    def check_crash_com(self, COM):\n",
    "        if self.tablero_jugador[COM.shot[0]][COM.shot[1]] == 1:\n",
    "            self.tablero_jugador[COM.shot[0]][COM.shot[1]] = 0\n",
    "            print(\"Impacto\")\n",
    "            print(\"La matriz queda: \")\n",
    "            print(self.tablero_jugador)\n",
    "        else:\n",
    "            print(\"Agua\")\n",
    "    def winner(self):\n",
    "        if np.sum(self.tablero_jugador) == 0:\n",
    "            self.available = False\n",
    "            print(\"Ganó COM\")\n",
    "            \n",
    "        if np.sum(self.tablero_COM) == 0:\n",
    "            self.available = False\n",
    "            print(\"Ganó jugador\")\n",
    "            \n",
    "\n",
    "#Creacion de Tablero\n",
    "Board = Tablero_de_juego()\n",
    "\n",
    "#Creacion de Botes para COM (4 botes)\n",
    "COM1 = COM([rd.randint(0,5),rd.randint(0,3)],3,\"H\")\n",
    "COM2 = COM([rd.randint(0,5),rd.randint(0,4)],2,\"H\")\n",
    "COM3 = COM([rd.randint(0,3),rd.randint(0,5)],3,\"V\")\n",
    "COM4 = COM([rd.randint(0,2),rd.randint(0,5)],4,\"V\")\n",
    "\n",
    "#Asignacion de botes para COM\n",
    "Board.add_boat_com(COM1)\n",
    "Board.add_boat_com(COM2)\n",
    "Board.add_boat_com(COM3)\n",
    "Board.add_boat_com(COM4)\n",
    "\n",
    "print(\"GUERRA NAVAL\")\n",
    "print(\"Tu oponente ya tiene sus barcos en posicion, ahora ubica los tuyos\")\n",
    "while y1 > 3 and y2 > 4 and x3 > 3 and x4 > 2:\n",
    "    print(\"Recuerda que no podras poner ubicaciones mayores a 5\")\n",
    "    print(\"Este es un barco horizontal\")\n",
    "    x1 = int(input(\"Ingrese fila para un barco tamaño 3: \"))\n",
    "    y1 = int(input(\"Ingrese columna (Entre 0 a 3) para un barco tamaño 3: \"))\n",
    "    if x1 < 6 and x1 > -1 and y1 < 4 and y1 > -1:\n",
    "        pos1 = jugador([x1,y1],3,\"H\")\n",
    "        Board.add_boat_jugador(pos1)\n",
    "\n",
    "    print(\"Este es un barco horizontal\")\n",
    "    x2 = int(input(\"Ingrese fila para un barco tamaño 2: \"))\n",
    "    y2 = int(input(\"Ingrese columna (Entre 0 a 4) para un barco tamaño 2: \"))\n",
    "    if x2 < 6 and x2 > -1 and y2 < 5 and y2 > -1:\n",
    "        pos2 = jugador([x2,y2],2,\"H\")\n",
    "        Board.add_boat_jugador(pos2)\n",
    "\n",
    "    print(\"Este es un barco vertical\")\n",
    "    x3 = int(input(\"Ingrese fila (Entre 0 a 3) para un barco tamaño 3: \"))\n",
    "    y3 = int(input(\"Ingrese columna para un barco tamaño 3: \"))\n",
    "    if x3 < 4 and x3 > -1 and y3 < 6 and y3 > -1:\n",
    "        pos3 = jugador([x3,y3],3,\"V\")\n",
    "        Board.add_boat_jugador(pos3)\n",
    "    \n",
    "    print(\"Este es un barco vertical\")\n",
    "    x4 = int(input(\"Ingrese fila (Entre 0 a 2) para un barco tamaño 4: \"))\n",
    "    y4 = int(input(\"Ingrese columna para un barco tamaño 4: \"))\n",
    "    if x4 < 3 and x4 > -1 and y4 < 6 and y4 > -1:\n",
    "        pos4 = jugador([x4,y4],4,\"V\")\n",
    "        Board.add_boat_jugador(pos4)\n",
    "    \n",
    "\n",
    "print(\"Inicia el juego\")\n",
    "while Board.available:\n",
    "    print(\"Recuerda que no podras poner filas o columnas mayores a 5\")\n",
    "    while sh1 < 0 or sh1 > 5 and sh2 < 0 or sh2 > 5:\n",
    "        sh1 = int(input(\"Ingresa fila (entre 0 a 5) para tu disparo a tu oponente: \"))\n",
    "        sh2 = int(input(\"Ingresa columna (entre 0 a 5) para tu disparo a tu oponente: \"))\n",
    "    pos1.shoter([sh1,sh2])\n",
    "    Board.check_crash_jugador(pos1)\n",
    "    #Ahora dispara la maquina\n",
    "    COM1.shoter([rd.randint(0,5),rd.randint(0,5)])\n",
    "    Board.check_crash_com(COM1)\n",
    "    #Se verifica si alguien gana\n",
    "    Board.winner()\n",
    "    sh1 = 6\n",
    "    sh2 = 6\n",
    "print(\"Fin del juego\")\n"
   ]
  },
  {
   "cell_type": "code",
   "execution_count": null,
   "id": "fbc6c1ea-b46d-4060-b387-54d46e22ce55",
   "metadata": {},
   "outputs": [],
   "source": []
  }
 ],
 "metadata": {
  "kernelspec": {
   "display_name": "Python 3 (ipykernel)",
   "language": "python",
   "name": "python3"
  },
  "language_info": {
   "codemirror_mode": {
    "name": "ipython",
    "version": 3
   },
   "file_extension": ".py",
   "mimetype": "text/x-python",
   "name": "python",
   "nbconvert_exporter": "python",
   "pygments_lexer": "ipython3",
   "version": "3.12.5"
  }
 },
 "nbformat": 4,
 "nbformat_minor": 5
}
